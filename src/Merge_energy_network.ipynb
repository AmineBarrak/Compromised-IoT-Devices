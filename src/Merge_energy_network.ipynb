{
 "cells": [
  {
   "cell_type": "markdown",
   "id": "9ad4dc3c",
   "metadata": {},
   "source": [
    "### This file is for addding a column of time in the energy file and merge with network dataset"
   ]
  },
  {
   "cell_type": "code",
   "execution_count": null,
   "id": "0a1611fa",
   "metadata": {},
   "outputs": [],
   "source": [
    "import pandas as pd\n",
    "import regex as re\n",
    "import sys, os\n",
    "import time"
   ]
  },
  {
   "cell_type": "code",
   "execution_count": null,
   "id": "e8e838af",
   "metadata": {},
   "outputs": [],
   "source": [
    "attacks = [\"Mirai\", \"RouterSploit\", \"UFOnet\", \"Normal\"]\n",
    "\n",
    "\n",
    "\n",
    "for attack in attacks:\n",
    "    iot_devices = [\"archer\", \"camera\", \"cctv\", \"indoor\", \"phillips\", \"wr940n\"]\n",
    "    input_folder_energy = \"/home/amine/Documents/CRIM_Project/energy/\"+attack+\"/\"\n",
    "    input_folder_network = \"/home/amine/Documents/CRIM_Project/network/network_csv/\"+attack+\"/\"\n",
    "    output_folder = \"/home/amine/Documents/CRIM_Project/Energy-network/\"+attack+\"/\"\n",
    "\n",
    "\n",
    "    if attack == \"UFOnet\":\n",
    "        iot_devices = [\"archer\", \"cctv\", \"indoor\"]\n",
    "\n",
    "    for i in iot_devices:\n",
    "        print(target)\n",
    "        target = i\n",
    "\n",
    "\n",
    "        dataset_energy = pd.read_csv(input_folder_energy+target+\"-\"+attack+\".csv\", delimiter=',', names= ['timestamp','energy'])\n",
    "\n",
    "\n",
    "\n",
    "        cmp = 0\n",
    "        dataset_energy['time'] = \"\"\n",
    "        dataset_energy['time'][0]=0\n",
    "        for index, row in dataset_energy.iterrows():\n",
    "            ind_next = index + 1\n",
    "            if ind_next < len(dataset_energy.index):\n",
    "                cmp += dataset_energy.loc[ind_next][0] - dataset_energy.loc[index][0]\n",
    "                dataset_energy['time'][ind_next]=cmp\n",
    "\n",
    "#         print(\"energy with time is\")\n",
    "\n",
    "\n",
    "        dataset_network = pd.read_csv(input_folder_network+target+\"-\"+attack+\".csv\", delimiter=',')\n",
    "#         print(\"network is\")\n",
    "#         print(dataset_network)\n",
    "        dataset_network['Time'] = dataset_network['Time']*1000\n",
    "\n",
    "\n",
    "        dataset_energy['source'] = [list() for x in range(len(dataset_energy.index))]\n",
    "        dataset_energy['destination'] = [list() for x in range(len(dataset_energy.index))]\n",
    "        dataset_energy['protocol'] = [list() for x in range(len(dataset_energy.index))]\n",
    "        dataset_energy['length'] = [list() for x in range(len(dataset_energy.index))]\n",
    "        dataset_energy['info'] = [list() for x in range(len(dataset_energy.index))]\n",
    "\n",
    "\n",
    "        for index, row in dataset_energy.iterrows():\n",
    "            ind_next = index + 1\n",
    "            min_time = dataset_energy['time'][index]\n",
    "            if ind_next < len(dataset_energy.index):\n",
    "                max_time = dataset_energy['time'][ind_next]\n",
    "                selection = dataset_network.loc[(dataset_network['Time'] >= min_time) & (dataset_network['Time'] < max_time)]\n",
    "#                 print(index, min_time, \"**************\")\n",
    "#                 print(selection['Source'])\n",
    "                if len(selection):\n",
    "#                     print (selection['Protocol'])\n",
    "                    dataset_energy['source'][index]=selection['Source'].tolist()\n",
    "                    dataset_energy['destination'][index]=selection['Destination'].tolist()\n",
    "                    dataset_energy['protocol'][index]=selection['Protocol'].tolist()\n",
    "                    dataset_energy['length'][index]=selection['Length'].tolist()\n",
    "                    dataset_energy['info'][index]=selection['Info'].tolist()\n",
    "            else:\n",
    "                max_time = min_time + 1000\n",
    "                selection = dataset_network.loc[(dataset_network['Time'] >= min_time) & (dataset_network['Time'] < max_time)]\n",
    "                if len(selection):\n",
    "    #                 dataset_energy['network_data'][index]=selection.to_dict('records')\n",
    "                    dataset_energy['source'][index]=selection['Source'].tolist()\n",
    "                    dataset_energy['destination'][index]=selection['Destination'].tolist()\n",
    "                    dataset_energy['protocol'][index]=selection['Protocol'].tolist()\n",
    "                    dataset_energy['length'][index]=selection['Length'].tolist()\n",
    "                    dataset_energy['info'][index]=selection['Info'].tolist()\n",
    "        dataset_energy.to_csv(output_folder+target+\"-\"+attack+\".csv\", index=False)"
   ]
  },
  {
   "cell_type": "code",
   "execution_count": null,
   "id": "22a30723",
   "metadata": {},
   "outputs": [],
   "source": []
  }
 ],
 "metadata": {
  "kernelspec": {
   "display_name": "Python 3 (ipykernel)",
   "language": "python",
   "name": "python3"
  },
  "language_info": {
   "codemirror_mode": {
    "name": "ipython",
    "version": 3
   },
   "file_extension": ".py",
   "mimetype": "text/x-python",
   "name": "python",
   "nbconvert_exporter": "python",
   "pygments_lexer": "ipython3",
   "version": "3.8.10"
  }
 },
 "nbformat": 4,
 "nbformat_minor": 5
}
